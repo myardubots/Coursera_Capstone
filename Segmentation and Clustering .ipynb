{
    "cells": [
        {
            "metadata": {
                "collapsed": true
            },
            "cell_type": "markdown",
            "source": "# --Segmenting and clustering neighborhoods in Toronto,Canada--"
        },
        {
            "metadata": {},
            "cell_type": "markdown",
            "source": "## Section1:\n### In this section using pandas, or the BeautifulSoup package, or any other way you are comfortable with to transform the data in the table on the Wikipedia page into the above pandas dataframe."
        },
        {
            "metadata": {},
            "cell_type": "code",
            "source": "import pandas as pd\nimport numpy as np\nimport matplotlib.pyplot as plt\n%matplotlib inline\nimport seaborn as sns\nfrom bs4 import BeautifulSoup\nfrom urllib.request import urlopen\n",
            "execution_count": 229,
            "outputs": []
        },
        {
            "metadata": {},
            "cell_type": "code",
            "source": "url = \"https://en.wikipedia.org/wiki/List_of_postal_codes_of_Canada:_M\"\nhtml = urlopen(url)\nsoup = BeautifulSoup(html,'lxml')\ntable = soup.find('table')\ntable_rows = table.find_all('tr')",
            "execution_count": 230,
            "outputs": []
        },
        {
            "metadata": {},
            "cell_type": "code",
            "source": "import re\n\nlist_rows = []\nfor row in table_rows:\n    cells = row.find_all('td')\n    str_cells = str(cells)\n    clean = re.compile('<.*?>')\n    clean2 = re.sub(clean,'',str_cells)\n    list_rows.append(clean2)\ndf = pd.DataFrame(list_rows)\ndf1 = df[0].str.split('\\n,', expand=True)\ndf1.head()",
            "execution_count": 231,
            "outputs": [
                {
                    "output_type": "execute_result",
                    "execution_count": 231,
                    "data": {
                        "text/plain": "      0              1                     2\n0    []           None                  None\n1  [M1A   Not assigned                   \\n]\n2  [M2A   Not assigned                   \\n]\n3  [M3A     North York          Parkwoods\\n]\n4  [M4A     North York   Victoria Village\\n]",
                        "text/html": "<div>\n<style scoped>\n    .dataframe tbody tr th:only-of-type {\n        vertical-align: middle;\n    }\n\n    .dataframe tbody tr th {\n        vertical-align: top;\n    }\n\n    .dataframe thead th {\n        text-align: right;\n    }\n</style>\n<table border=\"1\" class=\"dataframe\">\n  <thead>\n    <tr style=\"text-align: right;\">\n      <th></th>\n      <th>0</th>\n      <th>1</th>\n      <th>2</th>\n    </tr>\n  </thead>\n  <tbody>\n    <tr>\n      <th>0</th>\n      <td>[]</td>\n      <td>None</td>\n      <td>None</td>\n    </tr>\n    <tr>\n      <th>1</th>\n      <td>[M1A</td>\n      <td>Not assigned</td>\n      <td>\\n]</td>\n    </tr>\n    <tr>\n      <th>2</th>\n      <td>[M2A</td>\n      <td>Not assigned</td>\n      <td>\\n]</td>\n    </tr>\n    <tr>\n      <th>3</th>\n      <td>[M3A</td>\n      <td>North York</td>\n      <td>Parkwoods\\n]</td>\n    </tr>\n    <tr>\n      <th>4</th>\n      <td>[M4A</td>\n      <td>North York</td>\n      <td>Victoria Village\\n]</td>\n    </tr>\n  </tbody>\n</table>\n</div>"
                    },
                    "metadata": {}
                }
            ]
        },
        {
            "metadata": {},
            "cell_type": "code",
            "source": "df1[0] = df1[0].str.strip('[]')\ndf1[2] = df1[2].str.strip('\\n]')\ndf2 = df1.dropna(axis = 0 , how = 'any')\ndf3 = df2.drop_duplicates()\nheaders = ['Postal Code','Borough','Neighborhood']\ndf3.columns = headers\ndf3 = df3[~df3.Borough.str.contains(\"Not assigned\") == True]\ndf3['Neighborhood']=df3['Neighborhood'].apply(lambda x: x.replace('/', ','))\ndf3.head(10)",
            "execution_count": 294,
            "outputs": [
                {
                    "output_type": "execute_result",
                    "execution_count": 294,
                    "data": {
                        "text/plain": "   Postal Code            Borough  \\\n3          M3A         North York   \n4          M4A         North York   \n5          M5A   Downtown Toronto   \n6          M6A         North York   \n7          M7A   Downtown Toronto   \n9          M9A          Etobicoke   \n10         M1B        Scarborough   \n12         M3B         North York   \n13         M4B          East York   \n14         M5B   Downtown Toronto   \n\n                                     Neighborhood  \n3                                       Parkwoods  \n4                                Victoria Village  \n5                      Regent Park , Harbourfront  \n6               Lawrence Manor , Lawrence Heights  \n7    Queen's Park , Ontario Provincial Government  \n9                                Islington Avenue  \n10                                Malvern , Rouge  \n12                                      Don Mills  \n13               Parkview Hill , Woodbine Gardens  \n14                       Garden District, Ryerson  ",
                        "text/html": "<div>\n<style scoped>\n    .dataframe tbody tr th:only-of-type {\n        vertical-align: middle;\n    }\n\n    .dataframe tbody tr th {\n        vertical-align: top;\n    }\n\n    .dataframe thead th {\n        text-align: right;\n    }\n</style>\n<table border=\"1\" class=\"dataframe\">\n  <thead>\n    <tr style=\"text-align: right;\">\n      <th></th>\n      <th>Postal Code</th>\n      <th>Borough</th>\n      <th>Neighborhood</th>\n    </tr>\n  </thead>\n  <tbody>\n    <tr>\n      <th>3</th>\n      <td>M3A</td>\n      <td>North York</td>\n      <td>Parkwoods</td>\n    </tr>\n    <tr>\n      <th>4</th>\n      <td>M4A</td>\n      <td>North York</td>\n      <td>Victoria Village</td>\n    </tr>\n    <tr>\n      <th>5</th>\n      <td>M5A</td>\n      <td>Downtown Toronto</td>\n      <td>Regent Park , Harbourfront</td>\n    </tr>\n    <tr>\n      <th>6</th>\n      <td>M6A</td>\n      <td>North York</td>\n      <td>Lawrence Manor , Lawrence Heights</td>\n    </tr>\n    <tr>\n      <th>7</th>\n      <td>M7A</td>\n      <td>Downtown Toronto</td>\n      <td>Queen's Park , Ontario Provincial Government</td>\n    </tr>\n    <tr>\n      <th>9</th>\n      <td>M9A</td>\n      <td>Etobicoke</td>\n      <td>Islington Avenue</td>\n    </tr>\n    <tr>\n      <th>10</th>\n      <td>M1B</td>\n      <td>Scarborough</td>\n      <td>Malvern , Rouge</td>\n    </tr>\n    <tr>\n      <th>12</th>\n      <td>M3B</td>\n      <td>North York</td>\n      <td>Don Mills</td>\n    </tr>\n    <tr>\n      <th>13</th>\n      <td>M4B</td>\n      <td>East York</td>\n      <td>Parkview Hill , Woodbine Gardens</td>\n    </tr>\n    <tr>\n      <th>14</th>\n      <td>M5B</td>\n      <td>Downtown Toronto</td>\n      <td>Garden District, Ryerson</td>\n    </tr>\n  </tbody>\n</table>\n</div>"
                    },
                    "metadata": {}
                }
            ]
        },
        {
            "metadata": {},
            "cell_type": "markdown",
            "source": "###### Shape of the data frame"
        },
        {
            "metadata": {},
            "cell_type": "code",
            "source": "print(df3.shape)\ndf3.describe()",
            "execution_count": 295,
            "outputs": [
                {
                    "output_type": "stream",
                    "text": "(103, 3)\n",
                    "name": "stdout"
                },
                {
                    "output_type": "execute_result",
                    "execution_count": 295,
                    "data": {
                        "text/plain": "       Postal Code      Borough Neighborhood\ncount          103          103          103\nunique         103           10           98\ntop            M8X   North York    Downsview\nfreq             1           24            4",
                        "text/html": "<div>\n<style scoped>\n    .dataframe tbody tr th:only-of-type {\n        vertical-align: middle;\n    }\n\n    .dataframe tbody tr th {\n        vertical-align: top;\n    }\n\n    .dataframe thead th {\n        text-align: right;\n    }\n</style>\n<table border=\"1\" class=\"dataframe\">\n  <thead>\n    <tr style=\"text-align: right;\">\n      <th></th>\n      <th>Postal Code</th>\n      <th>Borough</th>\n      <th>Neighborhood</th>\n    </tr>\n  </thead>\n  <tbody>\n    <tr>\n      <th>count</th>\n      <td>103</td>\n      <td>103</td>\n      <td>103</td>\n    </tr>\n    <tr>\n      <th>unique</th>\n      <td>103</td>\n      <td>10</td>\n      <td>98</td>\n    </tr>\n    <tr>\n      <th>top</th>\n      <td>M8X</td>\n      <td>North York</td>\n      <td>Downsview</td>\n    </tr>\n    <tr>\n      <th>freq</th>\n      <td>1</td>\n      <td>24</td>\n      <td>4</td>\n    </tr>\n  </tbody>\n</table>\n</div>"
                    },
                    "metadata": {}
                }
            ]
        },
        {
            "metadata": {},
            "cell_type": "markdown",
            "source": "# Section 2:\n### Using  the Geocoder package or the csv file to create the following dataframe with latitude and longitude values"
        },
        {
            "metadata": {},
            "cell_type": "code",
            "source": "df4 = pd.read_csv('https://cocl.us/Geospatial_data')\ndf4.head()",
            "execution_count": 296,
            "outputs": [
                {
                    "output_type": "execute_result",
                    "execution_count": 296,
                    "data": {
                        "text/plain": "  Postal Code   Latitude  Longitude\n0         M1B  43.806686 -79.194353\n1         M1C  43.784535 -79.160497\n2         M1E  43.763573 -79.188711\n3         M1G  43.770992 -79.216917\n4         M1H  43.773136 -79.239476",
                        "text/html": "<div>\n<style scoped>\n    .dataframe tbody tr th:only-of-type {\n        vertical-align: middle;\n    }\n\n    .dataframe tbody tr th {\n        vertical-align: top;\n    }\n\n    .dataframe thead th {\n        text-align: right;\n    }\n</style>\n<table border=\"1\" class=\"dataframe\">\n  <thead>\n    <tr style=\"text-align: right;\">\n      <th></th>\n      <th>Postal Code</th>\n      <th>Latitude</th>\n      <th>Longitude</th>\n    </tr>\n  </thead>\n  <tbody>\n    <tr>\n      <th>0</th>\n      <td>M1B</td>\n      <td>43.806686</td>\n      <td>-79.194353</td>\n    </tr>\n    <tr>\n      <th>1</th>\n      <td>M1C</td>\n      <td>43.784535</td>\n      <td>-79.160497</td>\n    </tr>\n    <tr>\n      <th>2</th>\n      <td>M1E</td>\n      <td>43.763573</td>\n      <td>-79.188711</td>\n    </tr>\n    <tr>\n      <th>3</th>\n      <td>M1G</td>\n      <td>43.770992</td>\n      <td>-79.216917</td>\n    </tr>\n    <tr>\n      <th>4</th>\n      <td>M1H</td>\n      <td>43.773136</td>\n      <td>-79.239476</td>\n    </tr>\n  </tbody>\n</table>\n</div>"
                    },
                    "metadata": {}
                }
            ]
        },
        {
            "metadata": {},
            "cell_type": "code",
            "source": "df5 = df3.merge(df4 , on = 'Postal Code' , how = 'left')\ndf5.head(10)",
            "execution_count": 299,
            "outputs": [
                {
                    "output_type": "execute_result",
                    "execution_count": 299,
                    "data": {
                        "text/plain": "  Postal Code            Borough  \\\n0         M3A         North York   \n1         M4A         North York   \n2         M5A   Downtown Toronto   \n3         M6A         North York   \n4         M7A   Downtown Toronto   \n5         M9A          Etobicoke   \n6         M1B        Scarborough   \n7         M3B         North York   \n8         M4B          East York   \n9         M5B   Downtown Toronto   \n\n                                    Neighborhood   Latitude  Longitude  \n0                                      Parkwoods  43.753259 -79.329656  \n1                               Victoria Village  43.725882 -79.315572  \n2                     Regent Park , Harbourfront  43.654260 -79.360636  \n3              Lawrence Manor , Lawrence Heights  43.718518 -79.464763  \n4   Queen's Park , Ontario Provincial Government  43.662301 -79.389494  \n5                               Islington Avenue  43.667856 -79.532242  \n6                                Malvern , Rouge  43.806686 -79.194353  \n7                                      Don Mills  43.745906 -79.352188  \n8               Parkview Hill , Woodbine Gardens  43.706397 -79.309937  \n9                       Garden District, Ryerson  43.657162 -79.378937  ",
                        "text/html": "<div>\n<style scoped>\n    .dataframe tbody tr th:only-of-type {\n        vertical-align: middle;\n    }\n\n    .dataframe tbody tr th {\n        vertical-align: top;\n    }\n\n    .dataframe thead th {\n        text-align: right;\n    }\n</style>\n<table border=\"1\" class=\"dataframe\">\n  <thead>\n    <tr style=\"text-align: right;\">\n      <th></th>\n      <th>Postal Code</th>\n      <th>Borough</th>\n      <th>Neighborhood</th>\n      <th>Latitude</th>\n      <th>Longitude</th>\n    </tr>\n  </thead>\n  <tbody>\n    <tr>\n      <th>0</th>\n      <td>M3A</td>\n      <td>North York</td>\n      <td>Parkwoods</td>\n      <td>43.753259</td>\n      <td>-79.329656</td>\n    </tr>\n    <tr>\n      <th>1</th>\n      <td>M4A</td>\n      <td>North York</td>\n      <td>Victoria Village</td>\n      <td>43.725882</td>\n      <td>-79.315572</td>\n    </tr>\n    <tr>\n      <th>2</th>\n      <td>M5A</td>\n      <td>Downtown Toronto</td>\n      <td>Regent Park , Harbourfront</td>\n      <td>43.654260</td>\n      <td>-79.360636</td>\n    </tr>\n    <tr>\n      <th>3</th>\n      <td>M6A</td>\n      <td>North York</td>\n      <td>Lawrence Manor , Lawrence Heights</td>\n      <td>43.718518</td>\n      <td>-79.464763</td>\n    </tr>\n    <tr>\n      <th>4</th>\n      <td>M7A</td>\n      <td>Downtown Toronto</td>\n      <td>Queen's Park , Ontario Provincial Government</td>\n      <td>43.662301</td>\n      <td>-79.389494</td>\n    </tr>\n    <tr>\n      <th>5</th>\n      <td>M9A</td>\n      <td>Etobicoke</td>\n      <td>Islington Avenue</td>\n      <td>43.667856</td>\n      <td>-79.532242</td>\n    </tr>\n    <tr>\n      <th>6</th>\n      <td>M1B</td>\n      <td>Scarborough</td>\n      <td>Malvern , Rouge</td>\n      <td>43.806686</td>\n      <td>-79.194353</td>\n    </tr>\n    <tr>\n      <th>7</th>\n      <td>M3B</td>\n      <td>North York</td>\n      <td>Don Mills</td>\n      <td>43.745906</td>\n      <td>-79.352188</td>\n    </tr>\n    <tr>\n      <th>8</th>\n      <td>M4B</td>\n      <td>East York</td>\n      <td>Parkview Hill , Woodbine Gardens</td>\n      <td>43.706397</td>\n      <td>-79.309937</td>\n    </tr>\n    <tr>\n      <th>9</th>\n      <td>M5B</td>\n      <td>Downtown Toronto</td>\n      <td>Garden District, Ryerson</td>\n      <td>43.657162</td>\n      <td>-79.378937</td>\n    </tr>\n  </tbody>\n</table>\n</div>"
                    },
                    "metadata": {}
                }
            ]
        },
        {
            "metadata": {},
            "cell_type": "code",
            "source": "",
            "execution_count": null,
            "outputs": []
        }
    ],
    "metadata": {
        "kernelspec": {
            "name": "python3",
            "display_name": "Python 3.6",
            "language": "python"
        },
        "language_info": {
            "name": "python",
            "version": "3.6.9",
            "mimetype": "text/x-python",
            "codemirror_mode": {
                "name": "ipython",
                "version": 3
            },
            "pygments_lexer": "ipython3",
            "nbconvert_exporter": "python",
            "file_extension": ".py"
        }
    },
    "nbformat": 4,
    "nbformat_minor": 1
}